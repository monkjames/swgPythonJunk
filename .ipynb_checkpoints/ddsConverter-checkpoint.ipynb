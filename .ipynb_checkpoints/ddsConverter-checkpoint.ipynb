{
 "cells": [
  {
   "cell_type": "code",
   "execution_count": 1,
   "id": "d6f4f76d",
   "metadata": {},
   "outputs": [],
   "source": [
    "from wand import image\n",
    "import os"
   ]
  },
  {
   "cell_type": "code",
   "execution_count": null,
   "id": "08ccfa38",
   "metadata": {},
   "outputs": [],
   "source": [
    "stage = 'staging/pelgocards/'\n",
    "imgs = os.listdir(stage)"
   ]
  },
  {
   "cell_type": "code",
   "execution_count": 5,
   "id": "7e3e51d0",
   "metadata": {},
   "outputs": [],
   "source": [
    "for i in imgs:\n",
    "    oldfile = 'staging/pelgocards/' + i\n",
    "    with image.Image(filename=oldfile) as img:\n",
    "        img.compression = 'dxt3'\n",
    "        img.save(filename=i.replace('.png', '.dds'))"
   ]
  },
  {
   "cell_type": "code",
   "execution_count": null,
   "id": "1059303d",
   "metadata": {},
   "outputs": [],
   "source": []
  }
 ],
 "metadata": {
  "kernelspec": {
   "display_name": "Python 3 (ipykernel)",
   "language": "python",
   "name": "python3"
  },
  "language_info": {
   "codemirror_mode": {
    "name": "ipython",
    "version": 3
   },
   "file_extension": ".py",
   "mimetype": "text/x-python",
   "name": "python",
   "nbconvert_exporter": "python",
   "pygments_lexer": "ipython3",
   "version": "3.10.9"
  }
 },
 "nbformat": 4,
 "nbformat_minor": 5
}
