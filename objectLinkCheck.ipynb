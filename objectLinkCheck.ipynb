{
 "cells": [
  {
   "cell_type": "code",
   "execution_count": 70,
   "metadata": {},
   "outputs": [],
   "source": [
    "import os\n",
    "import re"
   ]
  },
  {
   "cell_type": "code",
   "execution_count": 101,
   "metadata": {},
   "outputs": [],
   "source": [
    "root = \"C:\\\\Users\\\\micha\\\\Documents\\\\source\\\\wun1\\\\MMOCoreORB\\\\bin\\\\scripts\\\\object\"\n",
    "repo = \"C:\\\\Users\\\\micha\\\\Documents\\\\source\\\\wun1\\\\MMOCoreORB\\\\bin\\\\scripts\\\\object\\\\tangible\""
   ]
  },
  {
   "cell_type": "code",
   "execution_count": 102,
   "metadata": {},
   "outputs": [],
   "source": [
    "serverobjects = []\n",
    "objects = []\n",
    "luas = []\n",
    "def getLua(lua):\n",
    "    pattern = r'\"(.*?)\"'\n",
    "    matches = re.findall(pattern, lua)\n",
    "    return(matches[0])\n",
    "\n",
    "\n",
    "def runDifs(npath):\n",
    "    dlist = os.listdir(npath)\n",
    "    \n",
    "    for d in dlist:\n",
    "        ff = npath + \"\\\\\" + d\n",
    "        if os.path.isfile(ff):\n",
    "            if str(d).lower() == \"serverobjects.lua\":\n",
    "                \n",
    "                try:\n",
    "                    with open(ff) as f1:\n",
    "                        f1_text = f1.readlines()\n",
    "                    for f in f1_text:\n",
    "                        try:\n",
    "                            if len(str(f).strip()) > 0 and not str(f).strip().startswith('--'):\n",
    "                                serverobjects.append(getLua(f.strip()))\n",
    "                        except Exception as ex:\n",
    "                            print(f\"inner {ex}\")\n",
    "                except Exception as e:\n",
    "                    print(f\"{ff} error: {e}\")\n",
    "\n",
    "            elif str(d).lower() == \"objects.lua\":\n",
    "                objects.append(ff)\n",
    "            else:\n",
    "                luas.append(ff)\n",
    "        else:\n",
    "            runDifs(npath + \"\\\\\" + d)"
   ]
  },
  {
   "cell_type": "code",
   "execution_count": 113,
   "metadata": {},
   "outputs": [
    {
     "name": "stdout",
     "output_type": "stream",
     "text": [
      "inner list index out of range\n",
      "inner list index out of range\n"
     ]
    }
   ],
   "source": [
    "serverobjects = []\n",
    "objects = []\n",
    "luas = []\n",
    "runDifs(repo)"
   ]
  },
  {
   "cell_type": "code",
   "execution_count": 114,
   "metadata": {},
   "outputs": [
    {
     "name": "stdout",
     "output_type": "stream",
     "text": [
      "tangible/component/armor/shield_generator_personal_lava.lua\n",
      "tangible/container/loot/mysterious_container.lua\n",
      "tangible/deed/pet_deed/lantern_bird_deed.lua\n",
      "tangible/deed/player_house_deed/commando_house_dark_deed.lua\n",
      "tangible/furniture/all/frn_all_light_lamp_free_blue_s02.lua\n",
      "tangible/furniture/all/frn_all_light_lamp_free_blue_s03.lua\n",
      "tangible/furniture/all/frn_all_light_lamp_free_blue_s04.lua\n",
      "tangible/furniture/all/frn_all_light_lamp_free_green_s02.lua\n",
      "tangible/furniture/all/frn_all_light_lamp_free_green_s03.lua\n",
      "tangible/furniture/all/frn_all_light_lamp_free_green_s04.lua\n",
      "tangible/furniture/all/frn_all_light_lamp_free_orange_s02.lua\n",
      "tangible/furniture/all/frn_all_light_lamp_free_orange_s03.lua\n",
      "tangible/furniture/all/frn_all_light_lamp_free_orange_s04.lua\n",
      "tangible/furniture/all/frn_all_light_lamp_free_purple_s02.lua\n",
      "tangible/furniture/all/frn_all_light_lamp_free_purple_s03.lua\n",
      "tangible/furniture/all/frn_all_light_lamp_free_purple_s04.lua\n",
      "tangible/furniture/all/frn_all_light_lamp_free_red_s02.lua\n",
      "tangible/furniture/all/frn_all_light_lamp_free_red_s03.lua\n",
      "tangible/furniture/all/frn_all_light_lamp_free_red_s04.lua\n",
      "tangible/furniture/all/frn_all_light_lamp_free_yellow_s02.lua\n",
      "tangible/furniture/all/frn_all_light_lamp_free_yellow_s03.lua\n",
      "tangible/furniture/all/frn_all_light_lamp_free_yellow_s04.lua\n",
      "tangible/loot/loot_schematic/death_watch_mandalorian_boots_schematic.lua\n",
      "tangible/loot/loot_schematic/hangar_house_loot_schem (3).lua\n",
      "tangible/treasure_map/treasure_map_pirate10.lua\n",
      "tangible/treasure_map/treasure_map_pirate11.lua\n",
      "tangible/treasure_map/treasure_map_pirate12.lua\n",
      "tangible/treasure_map/treasure_map_pirate13.lua\n",
      "tangible/treasure_map/treasure_map_pirate14.lua\n",
      "tangible/treasure_map/treasure_map_pirate15.lua\n",
      "tangible/treasure_map/treasure_map_pirate16.lua\n",
      "tangible/treasure_map/treasure_map_pirate17.lua\n",
      "tangible/treasure_map/treasure_map_pirate18.lua\n",
      "tangible/treasure_map/treasure_map_pirate19.lua\n",
      "tangible/treasure_map/treasure_map_pirate3.lua\n",
      "tangible/treasure_map/treasure_map_pirate4.lua\n",
      "tangible/treasure_map/treasure_map_pirate5.lua\n",
      "tangible/treasure_map/treasure_map_pirate6.lua\n",
      "tangible/treasure_map/treasure_map_pirate7.lua\n",
      "tangible/treasure_map/treasure_map_pirate8.lua\n",
      "tangible/treasure_map/treasure_map_pirate9.lua\n",
      "tangible/wearables/armor/kashyyykian_ceremonial/armor_kashyyykian_ceremonial_bicep_l.lua\n",
      "tangible/wearables/armor/kashyyykian_ceremonial/armor_kashyyykian_ceremonial_bicep_r.lua\n",
      "tangible/wearables/armor/kashyyykian_ceremonial/armor_kashyyykian_ceremonial_chestplate.lua\n",
      "tangible/wearables/armor/kashyyykian_hunting/armor_kashyyykian_hunting_bicep_l.lua\n",
      "tangible/wearables/armor/kashyyykian_hunting/armor_kashyyykian_hunting_bicep_r.lua\n",
      "tangible/wearables/armor/kashyyykian_hunting/armor_kashyyykian_hunting_chestplate.lua\n",
      "tangible/wearables/armor/marauder/armor_marauder_s01_boots.lua\n",
      "tangible/wearables/armor/marauder/armor_marauder_s02_gloves.lua\n",
      "tangible/wearables/armor/marauder/armor_marauder_s02_helmet.lua\n",
      "tangible/wearables/backpack/backpack_krayt_mandalorian.lua\n",
      "tangible/wearables/backpack/ep3_chiss_poacher_player_backpack.lua\n"
     ]
    }
   ],
   "source": [
    "for l in luas:\n",
    "    looey = str(l).replace(root,'').replace('\\\\','/').replace('//','/')\n",
    "    looey = looey[1:]\n",
    "    if not looey in serverobjects:\n",
    "        print(looey)"
   ]
  },
  {
   "cell_type": "code",
   "execution_count": null,
   "metadata": {},
   "outputs": [],
   "source": [
    "for s in serverobjects:\n",
    "    print(s)"
   ]
  },
  {
   "cell_type": "code",
   "execution_count": null,
   "metadata": {},
   "outputs": [],
   "source": []
  }
 ],
 "metadata": {
  "kernelspec": {
   "display_name": "Python 3",
   "language": "python",
   "name": "python3"
  },
  "language_info": {
   "codemirror_mode": {
    "name": "ipython",
    "version": 3
   },
   "file_extension": ".py",
   "mimetype": "text/x-python",
   "name": "python",
   "nbconvert_exporter": "python",
   "pygments_lexer": "ipython3",
   "version": "3.10.11"
  },
  "orig_nbformat": 4
 },
 "nbformat": 4,
 "nbformat_minor": 2
}
