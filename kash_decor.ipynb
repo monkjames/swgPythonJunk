{
 "cells": [
  {
   "cell_type": "code",
   "execution_count": 5,
   "metadata": {},
   "outputs": [
    {
     "data": {
      "text/plain": [
       "<module 'swg' from 'c:\\\\Users\\\\micha\\\\Documents\\\\swgPythonJunk\\\\swg.py'>"
      ]
     },
     "execution_count": 5,
     "metadata": {},
     "output_type": "execute_result"
    }
   ],
   "source": [
    "import os\n",
    "import importlib as imp\n",
    "import shutil\n",
    "import swg as swg\n",
    "imp.reload(swg)"
   ]
  },
  {
   "attachments": {},
   "cell_type": "markdown",
   "metadata": {},
   "source": [
    "### Get list of files"
   ]
  },
  {
   "cell_type": "code",
   "execution_count": 6,
   "metadata": {},
   "outputs": [],
   "source": [
    "# object/building/kashyyyk/shared_decd_wroshyr_bent_tree_dead.iff\n",
    "bp = \"object/static/structure/kash\"\n",
    "path = \"C:\\\\Users\\\\micha\\\\Desktop\\\\a_working_tre\\\\\" + bp.replace('/','\\\\')\n",
    "dlist = os.listdir(path)"
   ]
  },
  {
   "attachments": {},
   "cell_type": "markdown",
   "metadata": {},
   "source": [
    "## Setup templates"
   ]
  },
  {
   "cell_type": "code",
   "execution_count": 7,
   "metadata": {},
   "outputs": [],
   "source": [
    "lo = []\n",
    "lo.append(\"-- Wicked's Object Machine\")\n",
    "lo.append(bp.replace('/','_') + \"_xxxx = \" + bp.replace('/','_') + \"_shared_xxxx:new {}\")\n",
    "lo.append('ObjectTemplates:addTemplate(' + bp.replace('/','_') + '_xxxx, \"' + bp + '/xxxx.iff\")')\n",
    "\n",
    "luaObject = '\\n'.join(lo)\n",
    "\n",
    "lo = []\n",
    "lo.append(\"-- xxxx\")\n",
    "lo.append(bp.replace('/','_') + '_shared_xxxx = SharedStaticObjectTemplate:new {clientTemplateFileName = \"' + bp + '/shared_xxxx.iff\"}')\n",
    "lo.append('ObjectTemplates:addClientTemplate(' + bp.replace('/','_') + '_shared_xxxx, \"' + bp + '/shared_xxxx.iff\")')\n",
    "luaObjects = '\\n'.join(lo)\n",
    "\n",
    "serverObject = 'includeFile(\"../custom_scripts/' + bp + '/xxxx.lua\")'"
   ]
  },
  {
   "cell_type": "code",
   "execution_count": 8,
   "metadata": {},
   "outputs": [],
   "source": [
    "objects = []\n",
    "serverObjects = []\n",
    "for d in dlist:\n",
    "    obj = d.replace(\".iff\", \"\").replace(\"shared_\",\"\")\n",
    "    f = open(\"output/kash/\" + obj + \".lua\", \"w\")\n",
    "    f.write(luaObject.replace('xxxx',obj))\n",
    "    f.close()\n",
    "    objects.append(luaObjects.replace(\"xxxx\", obj))\n",
    "    serverObjects.append(serverObject.replace(\"xxxx\", obj))\n",
    "\n",
    "f = open(\"output/kash/serverobjects.lua\", \"w\")\n",
    "f.write('\\n'.join(serverObjects))\n",
    "f.close()\n",
    "\n",
    "f = open(\"output/kash/objects.lua\", \"w\")\n",
    "f.write('\\n'.join(objects))\n",
    "f.close()\n",
    "\n"
   ]
  },
  {
   "cell_type": "code",
   "execution_count": null,
   "metadata": {},
   "outputs": [],
   "source": []
  }
 ],
 "metadata": {
  "kernelspec": {
   "display_name": "Python 3",
   "language": "python",
   "name": "python3"
  },
  "language_info": {
   "codemirror_mode": {
    "name": "ipython",
    "version": 3
   },
   "file_extension": ".py",
   "mimetype": "text/x-python",
   "name": "python",
   "nbconvert_exporter": "python",
   "pygments_lexer": "ipython3",
   "version": "3.10.11"
  },
  "orig_nbformat": 4
 },
 "nbformat": 4,
 "nbformat_minor": 2
}
