{
 "cells": [
  {
   "cell_type": "code",
   "execution_count": 1,
   "metadata": {},
   "outputs": [
    {
     "data": {
      "text/plain": [
       "<module 'swg' from 'c:\\\\Users\\\\micha\\\\Documents\\\\swgPythonJunk\\\\swg.py'>"
      ]
     },
     "execution_count": 1,
     "metadata": {},
     "output_type": "execute_result"
    }
   ],
   "source": [
    "import os\n",
    "import importlib as imp\n",
    "import shutil\n",
    "import random\n",
    "import swg as swg\n",
    "imp.reload(swg)"
   ]
  },
  {
   "cell_type": "code",
   "execution_count": null,
   "metadata": {},
   "outputs": [],
   "source": [
    "chanceHit = []"
   ]
  },
  {
   "cell_type": "code",
   "execution_count": null,
   "metadata": {},
   "outputs": [],
   "source": [
    "print(240 * .01)"
   ]
  },
  {
   "cell_type": "code",
   "execution_count": null,
   "metadata": {},
   "outputs": [],
   "source": [
    "x=275\n",
    "New_value = (.000688405797101449 * (x - 24)) + .15\n",
    "print(New_value)"
   ]
  },
  {
   "cell_type": "code",
   "execution_count": null,
   "metadata": {},
   "outputs": [],
   "source": [
    "def toHit(original):\n",
    "    # define the ranges\n",
    "    min_start, max_start = 1, 600\n",
    "    min_end, max_end = 0.02, 36\n",
    "\n",
    "    # check if the original number is in the provided range\n",
    "    if not (min_start <= original <= max_start):\n",
    "        raise ValueError(f\"Number must be between {min_start} and {max_start}, inclusive.\")\n",
    "\n",
    "    # calculate the range sizes\n",
    "    start_range = max_start - min_start\n",
    "    end_range = max_end - min_end\n",
    "\n",
    "    # map the original number into the target range\n",
    "    scaled = ((original - min_start) / float(start_range)) * end_range + min_end\n",
    "\n",
    "    # add some randomness to the mapped number\n",
    "    final_number = random.uniform(max(scaled-1, min_end), scaled+1)\n",
    "\n",
    "    # return the result, rounded to two decimal places\n",
    "    return round(final_number, 2)"
   ]
  },
  {
   "cell_type": "code",
   "execution_count": null,
   "metadata": {},
   "outputs": [],
   "source": [
    "print(toHit(12))"
   ]
  },
  {
   "cell_type": "code",
   "execution_count": null,
   "metadata": {},
   "outputs": [],
   "source": [
    "print(toHit(260))"
   ]
  },
  {
   "cell_type": "code",
   "execution_count": 56,
   "metadata": {},
   "outputs": [],
   "source": [
    "def monsterLevelRange(level):\n",
    "    # List length\n",
    "    list_length = 8\n",
    "    level_multiplied = level * 10\n",
    "\n",
    "    # Create a range of allowable sums around half of level_multiplied\n",
    "    min_sum = level_multiplied * 0.4\n",
    "    max_sum = level_multiplied * 0.5\n",
    "\n",
    "    forbidden_ranges = [(95, 100), (195, 200)]\n",
    "\n",
    "    result_list = []\n",
    "\n",
    "    while True:\n",
    "        # Generate a random float number within range\n",
    "        while True:\n",
    "            random_num = round(random.uniform(0, min(200, level)), 1)  # Round to 1 decimal place\n",
    "            if not any(lower <= random_num <= upper for lower, upper in forbidden_ranges):\n",
    "                break\n",
    "        # Make sure total sum stays within the desired range\n",
    "        current_sum = sum(result_list)\n",
    "        if current_sum + random_num > max_sum:\n",
    "            continue\n",
    "        result_list.append(random_num)\n",
    "\n",
    "        # Check conditions to reset or fill remaining places with 0's\n",
    "        current_sum = sum(result_list)\n",
    "        list_len = len(result_list)\n",
    "        if list_len == list_length:\n",
    "            if current_sum < min_sum:\n",
    "                result_list = []\n",
    "            else:\n",
    "                break\n",
    "        elif current_sum >= min_sum:\n",
    "            break\n",
    "\n",
    "    # Fill remaining places in the list with 0's if sum is within range but length is smaller\n",
    "    while len(result_list) < list_length:\n",
    "        result_list.append(0)\n",
    "\n",
    "    # Replace 0's with -1's\n",
    "    result_list = [-1 if num == 0 else num for num in result_list]\n",
    "\n",
    "    # Randomize list order\n",
    "    random.shuffle(result_list)\n",
    "    \n",
    "    return result_list"
   ]
  },
  {
   "cell_type": "code",
   "execution_count": 57,
   "metadata": {},
   "outputs": [],
   "source": [
    "def adjustMonsterLevel_original(old_list, old_level, new_level):\n",
    "\n",
    "    if old_level == -1 or new_level == -1:\n",
    "        return [-1]*len(old_list)\n",
    "\n",
    "    forbidden_ranges = [(95, 100), (195, 200)]\n",
    "    proportion = new_level / old_level\n",
    "\n",
    "    if new_level < 1:\n",
    "        new_level = 1\n",
    "\n",
    "    if new_level > 600:\n",
    "        new_level = 600\n",
    "\n",
    "    new_list = []\n",
    "\n",
    "    for value in old_list:\n",
    "        \n",
    "        new_value = round(value * proportion, 1)\n",
    "\n",
    "        if new_value > 200.0:\n",
    "            new_value = 200.0\n",
    "            \n",
    "        while any(lower <= new_value <= upper for lower, upper in forbidden_ranges):\n",
    "            new_value = round(new_value - 0.1, 1)\n",
    "            if new_value <= 0.0:\n",
    "                new_value = -1\n",
    "                break\n",
    "\n",
    "        multiplier = random.uniform(0.92, 1.08)\n",
    "        new_value *= multiplier        \n",
    "        new_value = round(new_value, 1)\n",
    "\n",
    "        if new_value <= 0.0:\n",
    "            new_value = -1\n",
    "\n",
    "        new_list.append(new_value)\n",
    "\n",
    "    return new_list"
   ]
  },
  {
   "cell_type": "code",
   "execution_count": 284,
   "metadata": {},
   "outputs": [],
   "source": [
    "def monsterLevelRange(level):\n",
    "    list_length = 8\n",
    "    level_multiplied = level * 10\n",
    "\n",
    "    min_sum = level_multiplied * 0.4\n",
    "    max_sum = level_multiplied * 0.5\n",
    "\n",
    "    forbidden_ranges = [(95, 100), (195, 200)]\n",
    "    result_list = []\n",
    "    counter = 0\n",
    "\n",
    "    while counter < 10**4:    # Loop will stop after 10,000 iterations\n",
    "        counter += 1\n",
    "        while True:\n",
    "            random_num = round(random.uniform(0, min(200, level)), 1)\n",
    "            if any(lower <= random_num <= upper for lower, upper in forbidden_ranges):\n",
    "                continue\n",
    "            if random_num > 50:\n",
    "                if random.random() < 0.25:\n",
    "                    random_num = random_num# + 100\n",
    "                break \n",
    "            \n",
    "        current_sum = sum(result_list)\n",
    "        if current_sum + random_num > max_sum:\n",
    "            continue\n",
    "        if random_num == 0:\n",
    "            random_num = -1\n",
    "        result_list.append(random_num)\n",
    "\n",
    "        current_sum = sum(result_list)\n",
    "        list_len = len(result_list)\n",
    "        if list_len == list_length:\n",
    "            if current_sum < min_sum:\n",
    "                result_list = []\n",
    "            else:\n",
    "                break\n",
    "        elif current_sum >= min_sum:\n",
    "            break\n",
    "\n",
    "    while len(result_list) < list_length:\n",
    "        result_list.append(-1)\n",
    "\n",
    "    random.shuffle(result_list)\n",
    "    \n",
    "    return result_list"
   ]
  },
  {
   "cell_type": "code",
   "execution_count": 58,
   "metadata": {},
   "outputs": [],
   "source": [
    "def adjustMonsterLevel(old_list, old_level, new_level):\n",
    "\n",
    "    if old_level == -1 or new_level == -1:\n",
    "        return [-1]*len(old_list)\n",
    "\n",
    "    forbidden_ranges = [(95, 100), (195, 200)]\n",
    "    proportion = new_level / old_level\n",
    "\n",
    "    if new_level < 1:\n",
    "        new_level = 1\n",
    "\n",
    "    if new_level > 600:\n",
    "        new_level = 600\n",
    "\n",
    "    new_list = []\n",
    "\n",
    "    for value in old_list:\n",
    "        \n",
    "        new_value = round(value * proportion, 1)\n",
    "\n",
    "        if value > 100:\n",
    "            new_value = max(100, new_value)\n",
    "        \n",
    "        while any(lower <= new_value <= upper for lower, upper in forbidden_ranges) or new_value > 200.0:\n",
    "            new_value = round(new_value - 0.1, 1)\n",
    "            if new_value <= 0.0:\n",
    "                new_value = -1\n",
    "                break\n",
    "            \n",
    "        multiplier = random.uniform(0.92, 1.08)\n",
    "        new_value *= multiplier \n",
    "        new_value = round(new_value, 1)\n",
    "        \n",
    "        while any(lower <= new_value <= upper for lower, upper in forbidden_ranges) or new_value > 200.0:\n",
    "            new_value = round(new_value - 0.1, 1)\n",
    "            if new_value <= 0:\n",
    "                new_value = -1\n",
    "                break\n",
    "\n",
    "        if new_value <= 0:\n",
    "            new_value = -1\n",
    "        new_list.append(new_value)\n",
    "\n",
    "    return new_list"
   ]
  },
  {
   "cell_type": "code",
   "execution_count": 342,
   "metadata": {},
   "outputs": [
    {
     "name": "stdout",
     "output_type": "stream",
     "text": [
      "finalize\n",
      "[14.5, 12.4, 5, 11.8, 15.4, -1, 5, 9.4]\n"
     ]
    }
   ],
   "source": [
    "\n",
    "old_level = 16\n",
    "old_list = monsterLevelRange(old_level)\n",
    "print(old_list)\n"
   ]
  },
  {
   "cell_type": "code",
   "execution_count": 231,
   "metadata": {},
   "outputs": [
    {
     "name": "stdout",
     "output_type": "stream",
     "text": [
      "[41.3, 40.0, -1, -1, 40.5, -1, 43.6, 46.3]\n"
     ]
    }
   ],
   "source": [
    "new_level = 46\n",
    "print(adjustMonsterLevel(old_list, old_level, new_level))"
   ]
  },
  {
   "cell_type": "code",
   "execution_count": 287,
   "metadata": {},
   "outputs": [],
   "source": [
    "import random  \n",
    "  \n",
    "def monsterLevelRange(level):  \n",
    "    list_length = 8  \n",
    "    level_multiplied = level * 10  \n",
    "  \n",
    "    min_sum = level_multiplied * 0.4  \n",
    "    max_sum = level_multiplied * 0.5  \n",
    "  \n",
    "    forbidden_ranges = [(95, 100), (195, 200)]  \n",
    "    result_list = []  \n",
    "    counter = 0  \n",
    "  \n",
    "    # Calculate target number of positions with a value of 5 or greater  \n",
    "    target_positions = round(level / 10)  \n",
    "    target_positions += random.randint(-2, 2)  \n",
    "  \n",
    "    while counter < 1000:    # Loop will stop after 1,000 iterations  \n",
    "        counter += 1  \n",
    "  \n",
    "        icounter = 0  \n",
    "        while True:  \n",
    "            icounter += 1  \n",
    "            if icounter > 10000:  \n",
    "                break  \n",
    "            random_num = round(random.uniform(0, min(95, level)), 1)  \n",
    "            if any(lower <= random_num <= upper for lower, upper in forbidden_ranges):  \n",
    "                continue  \n",
    "            if random_num > 50:  \n",
    "                if random.random() < 0.25:  \n",
    "                    random_num = random_num# + 100  \n",
    "                break  \n",
    "  \n",
    "        current_sum = sum(result_list)  \n",
    "        if current_sum + random_num > max_sum:  \n",
    "            continue  \n",
    "        if random_num == 0 or (level < 60 and random.random() < 0.25):  # Added condition to increase -1 positions for levels below 60  \n",
    "            random_num = -1  \n",
    "        elif random_num > 0:  # Ensure minimum value is 5 if the number is greater than 0  \n",
    "            random_num = max(5, random_num)  \n",
    "        result_list.append(random_num)  \n",
    "  \n",
    "        current_sum = sum(result_list)  \n",
    "        list_len = len(result_list)  \n",
    "        if list_len == list_length:  \n",
    "            if current_sum < min_sum or sum(val >= 5 for val in result_list) != target_positions:  # Check if the number of positions with a value of 5 or greater matches the target  \n",
    "                result_list = []  \n",
    "            else:  \n",
    "                break  \n",
    "        elif current_sum >= min_sum:  \n",
    "            break  \n",
    "    print(\"finalize\")  \n",
    "    while len(result_list) < list_length:  \n",
    "        result_list.append(-1)  \n",
    "  \n",
    "    random.shuffle(result_list)  \n",
    "  \n",
    "    return result_list  \n"
   ]
  },
  {
   "cell_type": "code",
   "execution_count": 352,
   "metadata": {},
   "outputs": [
    {
     "name": "stdout",
     "output_type": "stream",
     "text": [
      "finalize\n",
      "[-1, 74.2, 63.0, 68.4, 74.9, 92.6, 57.3, 52.4]\n",
      "481.8\n"
     ]
    }
   ],
   "source": [
    "old_level = 113\n",
    "old_list = monsterLevelRange(old_level)\n",
    "print(old_list)\n",
    "print(sum(old_list))"
   ]
  },
  {
   "cell_type": "code",
   "execution_count": 343,
   "metadata": {},
   "outputs": [],
   "source": [
    "  \n",
    "def add_bonus_resist(resist_list, level):  \n",
    "    chance = level / 10  \n",
    "    new_resist_list = []  \n",
    "  \n",
    "    for resist in resist_list:  \n",
    "        if resist >= 200:\n",
    "            resist -= 200\n",
    "        if resist > 95 and resist <= 99:\n",
    "            resist = resist - 10\n",
    "        if resist == -1 or resist == 0:\n",
    "            if random.random() * 100 < 40:  \n",
    "                new_resist_list.append(resist)\n",
    "            else:\n",
    "                new_resist_list.append(0)\n",
    "            continue\n",
    "        if random.random() * 100 < chance:  \n",
    "            new_resist_list.append(resist + 100)  \n",
    "        else:\n",
    "            new_resist_list.append(resist)  \n",
    "      \n",
    "    return new_resist_list  \n"
   ]
  },
  {
   "cell_type": "code",
   "execution_count": 347,
   "metadata": {},
   "outputs": [
    {
     "name": "stdout",
     "output_type": "stream",
     "text": [
      "[14.5, 12.4, 5, 11.8, 15.4, -1, 5, 9.4]\n"
     ]
    }
   ],
   "source": [
    "blist = add_bonus_resist(old_list,old_level)\n",
    "print(blist)"
   ]
  },
  {
   "cell_type": "code",
   "execution_count": 348,
   "metadata": {},
   "outputs": [
    {
     "name": "stdout",
     "output_type": "stream",
     "text": [
      "[140.7, 105.4, 47.8, 114.2, 133.0, -1, 48.2, 85.9]\n"
     ]
    }
   ],
   "source": [
    "new_level = 146\n",
    "print(adjustMonsterLevel(old_list, old_level, new_level))"
   ]
  },
  {
   "cell_type": "code",
   "execution_count": null,
   "metadata": {},
   "outputs": [],
   "source": []
  }
 ],
 "metadata": {
  "kernelspec": {
   "display_name": "Python 3",
   "language": "python",
   "name": "python3"
  },
  "language_info": {
   "codemirror_mode": {
    "name": "ipython",
    "version": 3
   },
   "file_extension": ".py",
   "mimetype": "text/x-python",
   "name": "python",
   "nbconvert_exporter": "python",
   "pygments_lexer": "ipython3",
   "version": "3.10.11"
  },
  "orig_nbformat": 4
 },
 "nbformat": 4,
 "nbformat_minor": 2
}
