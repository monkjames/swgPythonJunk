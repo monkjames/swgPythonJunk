{
 "cells": [
  {
   "cell_type": "markdown",
   "metadata": {},
   "source": [
    "# Convo Builder\n",
    "The point of this is to take the contents of a text file and create a mobile template that links to the convo template and convo handler.\n",
    "\n",
    "The text file uses a syntax to build a conversation to make an IF stack in the convo handler so each convo segment has a spot in the IF.\n",
    "\n",
    "This is only intended to jump start, once these are customized in the game folder, don't re-roll it."
   ]
  },
  {
   "cell_type": "code",
   "execution_count": 1,
   "metadata": {},
   "outputs": [],
   "source": [
    "import os"
   ]
  },
  {
   "cell_type": "code",
   "execution_count": 2,
   "metadata": {},
   "outputs": [],
   "source": [
    "outMobile = 'convo_out/mobile'\n",
    "outConvoTemplate = 'convo_out/mobile'\n",
    "outConvoHandler = 'convo_out/screenplays'\n"
   ]
  },
  {
   "cell_type": "code",
   "execution_count": null,
   "metadata": {},
   "outputs": [],
   "source": []
  }
 ],
 "metadata": {
  "kernelspec": {
   "display_name": "Python 3",
   "language": "python",
   "name": "python3"
  },
  "language_info": {
   "codemirror_mode": {
    "name": "ipython",
    "version": 3
   },
   "file_extension": ".py",
   "mimetype": "text/x-python",
   "name": "python",
   "nbconvert_exporter": "python",
   "pygments_lexer": "ipython3",
   "version": "3.10.11"
  },
  "orig_nbformat": 4
 },
 "nbformat": 4,
 "nbformat_minor": 2
}
