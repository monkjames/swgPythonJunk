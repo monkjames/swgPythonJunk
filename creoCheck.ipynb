{
 "cells": [
  {
   "cell_type": "code",
   "execution_count": 77,
   "metadata": {},
   "outputs": [],
   "source": [
    "import os\n",
    "import re"
   ]
  },
  {
   "cell_type": "code",
   "execution_count": 78,
   "metadata": {},
   "outputs": [],
   "source": [
    "newRepo = \"C:\\\\Users\\\\micha\\\\Documents\\\\source\\\\wun1\\\\MMOCoreORB\\\\bin\\\\scripts\\\\custom_scripts\\\\mobile\"\n",
    "\n",
    "def has_multiline_primaryAttacks(lua_content):\n",
    "    try:\n",
    "        primary_attacks_string = re.search('primaryAttacks = {[^}]*}', lua_content)\n",
    "        return bool(re.search('(\\n|\\r\\n)', primary_attacks_string.group()))\n",
    "    except:\n",
    "        return False\n",
    "def has_multiline_secondaryAttacks(lua_content):\n",
    "    try:\n",
    "        secondary_attacks_string = re.search('secondaryAttacks = {[^}]*}', lua_content)\n",
    "        return bool(re.search('(\\n|\\r\\n)', secondary_attacks_string.group()))\n",
    "    except:\n",
    "        return False\n"
   ]
  },
  {
   "cell_type": "code",
   "execution_count": 79,
   "metadata": {},
   "outputs": [
    {
     "data": {
      "text/plain": [
       "'\\nrepo = \"C:\\\\Users\\\\micha\\\\Documents\\\\source\\\\wun1\\\\MMOCoreORB\\\\bin\\\\scripts\\\\custom_scripts\\\\mobile\"\\nwith open(repo + \"\\\\krayt_cave\\\\krayt_carcass_scavenger.lua\", \"r\") as file:\\n    lua_content = file.read()\\n    if has_multiline_primaryAttacks(lua_content):\\n        print(\"The file has primaryAttacks on more than one line.\")\\n    else:\\n        print(\"The file does not have primaryAttacks on more than one line.\")\\n    if has_multiline_secondaryAttacks(lua_content):\\n        print(\"The file has secondaryAttacks on more than one line.\")\\n    else:\\n        print(\"The file does not have secondaryAttacks on more than one line.\")\\n\\n'"
      ]
     },
     "execution_count": 79,
     "metadata": {},
     "output_type": "execute_result"
    }
   ],
   "source": [
    "'''\n",
    "repo = \"C:\\\\Users\\\\micha\\\\Documents\\\\source\\\\wun1\\\\MMOCoreORB\\\\bin\\\\scripts\\\\custom_scripts\\\\mobile\"\n",
    "with open(repo + \"\\\\krayt_cave\\\\krayt_carcass_scavenger.lua\", \"r\") as file:\n",
    "    lua_content = file.read()\n",
    "    if has_multiline_primaryAttacks(lua_content):\n",
    "        print(\"The file has primaryAttacks on more than one line.\")\n",
    "    else:\n",
    "        print(\"The file does not have primaryAttacks on more than one line.\")\n",
    "    if has_multiline_secondaryAttacks(lua_content):\n",
    "        print(\"The file has secondaryAttacks on more than one line.\")\n",
    "    else:\n",
    "        print(\"The file does not have secondaryAttacks on more than one line.\")\n",
    "\n",
    "'''"
   ]
  },
  {
   "cell_type": "code",
   "execution_count": 80,
   "metadata": {},
   "outputs": [],
   "source": [
    "primary = []\n",
    "secondary = []\n",
    "\n",
    "def runDifs(npath):\n",
    "    dlist = os.listdir(npath)    \n",
    "    for d in dlist:\n",
    "        if os.path.isfile(npath + \"\\\\\" + d):\n",
    "            with open(npath + \"\\\\\" + d, \"r\") as file:\n",
    "                lua_content = file.read()\n",
    "                if has_multiline_primaryAttacks(lua_content):\n",
    "                    primary.append(npath + \"\\\\\" + d)\n",
    "                if has_multiline_secondaryAttacks(lua_content):\n",
    "                    secondary.append(npath + \"\\\\\" + d)\n",
    "        else:\n",
    "            runDifs(npath + \"\\\\\" + d)"
   ]
  },
  {
   "cell_type": "code",
   "execution_count": 81,
   "metadata": {},
   "outputs": [],
   "source": [
    "runDifs(newRepo)"
   ]
  },
  {
   "cell_type": "code",
   "execution_count": 82,
   "metadata": {},
   "outputs": [
    {
     "data": {
      "text/plain": [
       "['C:\\\\Users\\\\micha\\\\Documents\\\\source\\\\wun1\\\\MMOCoreORB\\\\bin\\\\scripts\\\\custom_scripts\\\\mobile\\\\krayt_cave\\\\krayt_carcass_scavenger.lua',\n",
       " 'C:\\\\Users\\\\micha\\\\Documents\\\\source\\\\wun1\\\\MMOCoreORB\\\\bin\\\\scripts\\\\custom_scripts\\\\mobile\\\\krayt_cave\\\\krayt_king_loottest.lua',\n",
       " 'C:\\\\Users\\\\micha\\\\Documents\\\\source\\\\wun1\\\\MMOCoreORB\\\\bin\\\\scripts\\\\custom_scripts\\\\mobile\\\\stadium_challenge\\\\base\\\\stadium_l5.lua',\n",
       " 'C:\\\\Users\\\\micha\\\\Documents\\\\source\\\\wun1\\\\MMOCoreORB\\\\bin\\\\scripts\\\\custom_scripts\\\\mobile\\\\varactylquest\\\\gilded_belsavis_varactyl_baby.lua',\n",
       " 'C:\\\\Users\\\\micha\\\\Documents\\\\source\\\\wun1\\\\MMOCoreORB\\\\bin\\\\scripts\\\\custom_scripts\\\\mobile\\\\varactylquest\\\\legendary_belsavis_varactyl_dom.lua',\n",
       " 'C:\\\\Users\\\\micha\\\\Documents\\\\source\\\\wun1\\\\MMOCoreORB\\\\bin\\\\scripts\\\\custom_scripts\\\\mobile\\\\varactylquest\\\\legendary_belsavis_varactyl_wild.lua',\n",
       " 'C:\\\\Users\\\\micha\\\\Documents\\\\source\\\\wun1\\\\MMOCoreORB\\\\bin\\\\scripts\\\\custom_scripts\\\\mobile\\\\varactylquest\\\\ruby_belsavis_varactyl_baby.lua',\n",
       " 'C:\\\\Users\\\\micha\\\\Documents\\\\source\\\\wun1\\\\MMOCoreORB\\\\bin\\\\scripts\\\\custom_scripts\\\\mobile\\\\varactylquest\\\\varactyl.lua',\n",
       " 'C:\\\\Users\\\\micha\\\\Documents\\\\source\\\\wun1\\\\MMOCoreORB\\\\bin\\\\scripts\\\\custom_scripts\\\\mobile\\\\varactylquest\\\\voracious_belsavis_varactyl.lua',\n",
       " 'C:\\\\Users\\\\micha\\\\Documents\\\\source\\\\wun1\\\\MMOCoreORB\\\\bin\\\\scripts\\\\custom_scripts\\\\mobile\\\\varactylquest\\\\voracious_belsavis_varactyl_queen.lua',\n",
       " 'C:\\\\Users\\\\micha\\\\Documents\\\\source\\\\wun1\\\\MMOCoreORB\\\\bin\\\\scripts\\\\custom_scripts\\\\mobile\\\\world_bosses\\\\abiel.lua',\n",
       " 'C:\\\\Users\\\\micha\\\\Documents\\\\source\\\\wun1\\\\MMOCoreORB\\\\bin\\\\scripts\\\\custom_scripts\\\\mobile\\\\world_bosses\\\\breeze.lua',\n",
       " 'C:\\\\Users\\\\micha\\\\Documents\\\\source\\\\wun1\\\\MMOCoreORB\\\\bin\\\\scripts\\\\custom_scripts\\\\mobile\\\\world_bosses\\\\eternal_method.lua',\n",
       " 'C:\\\\Users\\\\micha\\\\Documents\\\\source\\\\wun1\\\\MMOCoreORB\\\\bin\\\\scripts\\\\custom_scripts\\\\mobile\\\\world_bosses\\\\shadowed_death.lua',\n",
       " 'C:\\\\Users\\\\micha\\\\Documents\\\\source\\\\wun1\\\\MMOCoreORB\\\\bin\\\\scripts\\\\custom_scripts\\\\mobile\\\\world_bosses\\\\stir.lua']"
      ]
     },
     "execution_count": 82,
     "metadata": {},
     "output_type": "execute_result"
    }
   ],
   "source": [
    "primary"
   ]
  },
  {
   "cell_type": "code",
   "execution_count": 83,
   "metadata": {},
   "outputs": [],
   "source": [
    "pfix = []\n",
    "for p in primary:\n",
    "    pfix.append(p.replace(newRepo,''))"
   ]
  },
  {
   "cell_type": "code",
   "execution_count": 84,
   "metadata": {},
   "outputs": [
    {
     "data": {
      "text/plain": [
       "['\\\\krayt_cave\\\\krayt_carcass_scavenger.lua',\n",
       " '\\\\krayt_cave\\\\krayt_king_loottest.lua',\n",
       " '\\\\stadium_challenge\\\\base\\\\stadium_l5.lua',\n",
       " '\\\\varactylquest\\\\gilded_belsavis_varactyl_baby.lua',\n",
       " '\\\\varactylquest\\\\legendary_belsavis_varactyl_dom.lua',\n",
       " '\\\\varactylquest\\\\legendary_belsavis_varactyl_wild.lua',\n",
       " '\\\\varactylquest\\\\ruby_belsavis_varactyl_baby.lua',\n",
       " '\\\\varactylquest\\\\varactyl.lua',\n",
       " '\\\\varactylquest\\\\voracious_belsavis_varactyl.lua',\n",
       " '\\\\varactylquest\\\\voracious_belsavis_varactyl_queen.lua',\n",
       " '\\\\world_bosses\\\\abiel.lua',\n",
       " '\\\\world_bosses\\\\breeze.lua',\n",
       " '\\\\world_bosses\\\\eternal_method.lua',\n",
       " '\\\\world_bosses\\\\shadowed_death.lua',\n",
       " '\\\\world_bosses\\\\stir.lua']"
      ]
     },
     "execution_count": 84,
     "metadata": {},
     "output_type": "execute_result"
    }
   ],
   "source": [
    "pfix"
   ]
  },
  {
   "cell_type": "code",
   "execution_count": 85,
   "metadata": {},
   "outputs": [],
   "source": [
    "sfix = []\n",
    "for p in secondary:\n",
    "    sfix.append(p.replace(newRepo,''))"
   ]
  },
  {
   "cell_type": "code",
   "execution_count": 86,
   "metadata": {},
   "outputs": [
    {
     "data": {
      "text/plain": [
       "['\\\\world_bosses\\\\dents_intrepide.lua',\n",
       " '\\\\world_bosses\\\\eternal_method.lua',\n",
       " '\\\\world_bosses\\\\shadowed_death.lua']"
      ]
     },
     "execution_count": 86,
     "metadata": {},
     "output_type": "execute_result"
    }
   ],
   "source": [
    "sfix"
   ]
  },
  {
   "cell_type": "code",
   "execution_count": null,
   "metadata": {},
   "outputs": [],
   "source": []
  }
 ],
 "metadata": {
  "kernelspec": {
   "display_name": "Python 3",
   "language": "python",
   "name": "python3"
  },
  "language_info": {
   "codemirror_mode": {
    "name": "ipython",
    "version": 3
   },
   "file_extension": ".py",
   "mimetype": "text/x-python",
   "name": "python",
   "nbconvert_exporter": "python",
   "pygments_lexer": "ipython3",
   "version": "3.10.11"
  },
  "orig_nbformat": 4
 },
 "nbformat": 4,
 "nbformat_minor": 2
}
