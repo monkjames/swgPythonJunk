{
 "cells": [
  {
   "cell_type": "code",
   "execution_count": 1,
   "id": "2cc8e02d",
   "metadata": {},
   "outputs": [],
   "source": [
    "import os\n",
    "import swg"
   ]
  },
  {
   "cell_type": "code",
   "execution_count": 9,
   "id": "174aae66",
   "metadata": {},
   "outputs": [
    {
     "name": "stdout",
     "output_type": "stream",
     "text": [
      "new text is too long\n"
     ]
    }
   ],
   "source": [
    "# Example usage:                                                   wsxwsxwsxwsxwsxwsxwsxwsx\n",
    "swg.replace_text_in_file('aaa.iff', 'wsxwsxwsxwsxwsxwsxwsxwsxwsxwsx', 'did_it_wsxwsxwsxwsxwsxwsxwsxwsxwsxwsx', 'output5.iff')"
   ]
  },
  {
   "cell_type": "code",
   "execution_count": null,
   "id": "e6b8a8d2",
   "metadata": {},
   "outputs": [],
   "source": []
  }
 ],
 "metadata": {
  "kernelspec": {
   "display_name": "Python 3 (ipykernel)",
   "language": "python",
   "name": "python3"
  },
  "language_info": {
   "codemirror_mode": {
    "name": "ipython",
    "version": 3
   },
   "file_extension": ".py",
   "mimetype": "text/x-python",
   "name": "python",
   "nbconvert_exporter": "python",
   "pygments_lexer": "ipython3",
   "version": "3.10.11"
  }
 },
 "nbformat": 4,
 "nbformat_minor": 5
}
